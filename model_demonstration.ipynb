{
 "cells": [
  {
   "cell_type": "code",
   "execution_count": 41,
   "outputs": [],
   "source": [
    "import torch\n",
    "from transformers import AdamW\n",
    "from utils import get_dataloaders, get_dataset, get_cm, show_cm\n",
    "from model_utils import train_model, model_predict\n",
    "from model import TweetModel\n",
    "import gc\n",
    "import numpy as np"
   ],
   "metadata": {
    "collapsed": false,
    "pycharm": {
     "name": "#%%\n"
    }
   }
  },
  {
   "cell_type": "code",
   "execution_count": null,
   "outputs": [],
   "source": [
    "import matplotlib.pyplot as plt\n",
    "from sklearn.metrics import accuracy_score\n",
    "from sklearn.metrics import precision_recall_curve, average_precision_score"
   ],
   "metadata": {
    "collapsed": false,
    "pycharm": {
     "name": "#%%\n"
    }
   }
  },
  {
   "cell_type": "code",
   "execution_count": 2,
   "outputs": [
    {
     "data": {
      "text/plain": "'cuda'"
     },
     "execution_count": 2,
     "metadata": {},
     "output_type": "execute_result"
    }
   ],
   "source": [
    "from torch import cuda\n",
    "device = 'cuda' if cuda.is_available() else 'cpu'\n",
    "device"
   ],
   "metadata": {
    "collapsed": false,
    "pycharm": {
     "name": "#%%\n"
    }
   }
  },
  {
   "cell_type": "code",
   "execution_count": 3,
   "outputs": [],
   "source": [
    "batch_size = 16"
   ],
   "metadata": {
    "collapsed": false,
    "pycharm": {
     "name": "#%%\n"
    }
   }
  },
  {
   "cell_type": "code",
   "execution_count": 4,
   "outputs": [
    {
     "name": "stderr",
     "output_type": "stream",
     "text": [
      "Using custom data configuration default\n",
      "Reusing dataset tweets_hate_speech_detection (C:\\Users\\Алексей\\.cache\\huggingface\\datasets\\tweets_hate_speech_detection\\default\\0.0.0\\c32a982d8b2d6233065d820ac655454174f8aaa8faddc74979cf793486acd3b0)\n"
     ]
    }
   ],
   "source": [
    "data = get_dataset()\n",
    "tensor_dataloaders = get_dataloaders(data, batch_size)"
   ],
   "metadata": {
    "collapsed": false,
    "pycharm": {
     "name": "#%%\n"
    }
   }
  },
  {
   "cell_type": "code",
   "execution_count": 5,
   "outputs": [
    {
     "data": {
      "text/plain": "19"
     },
     "execution_count": 5,
     "metadata": {},
     "output_type": "execute_result"
    }
   ],
   "source": [
    "torch.cuda.empty_cache()\n",
    "gc.collect()"
   ],
   "metadata": {
    "collapsed": false,
    "pycharm": {
     "name": "#%%\n"
    }
   }
  },
  {
   "cell_type": "code",
   "execution_count": 6,
   "outputs": [],
   "source": [
    "model = TweetModel(2)\n",
    "optimizer_fn = AdamW(model.parameters(), lr = 2e-5, eps = 1e-8)\n",
    "loss_fn = torch.nn.CrossEntropyLoss()"
   ],
   "metadata": {
    "collapsed": false,
    "pycharm": {
     "name": "#%%\n"
    }
   }
  },
  {
   "cell_type": "code",
   "execution_count": 8,
   "outputs": [],
   "source": [
    "y_pred, y_true = model_predict(model, tensor_dataloaders['test'], device)"
   ],
   "metadata": {
    "collapsed": false,
    "pycharm": {
     "name": "#%%\n"
    }
   }
  },
  {
   "cell_type": "code",
   "execution_count": 9,
   "outputs": [],
   "source": [
    "cm = get_cm(y_pred, y_true)\n",
    "show_cm(cm)"
   ],
   "metadata": {
    "collapsed": false,
    "pycharm": {
     "name": "#%%\n"
    }
   }
  },
  {
   "cell_type": "code",
   "execution_count": 42,
   "outputs": [
    {
     "name": "stdout",
     "output_type": "stream",
     "text": [
      "Accuracy before training: 0.9820087609511889\n"
     ]
    }
   ],
   "source": [
    "print(f'Accuracy before training: {accuracy_score(np.argmax(y_true, axis=1), np.argmax(y_pred, axis=1))}')"
   ],
   "metadata": {
    "collapsed": false,
    "pycharm": {
     "name": "#%%\n"
    }
   }
  },
  {
   "cell_type": "code",
   "execution_count": 10,
   "outputs": [
    {
     "name": "stdout",
     "output_type": "stream",
     "text": [
      "----------\n",
      "Epoch 1/3\n",
      "train: loss: 5.77e-06\n",
      "validation: loss: 3.96e-06\n",
      "saving best model\n",
      "7m 16s\n",
      "----------\n",
      "Epoch 2/3\n",
      "train: loss: 5.40e-08\n",
      "validation: loss: 2.29e-07\n",
      "saving best model\n",
      "7m 19s\n",
      "----------\n",
      "Epoch 3/3\n",
      "train: loss: 3.04e-06\n",
      "validation: loss: 3.96e-07\n",
      "7m 19s\n",
      "Best epoch: 2\n",
      "best_train_loss: 5.40e-08\n",
      "best_val_loss: 2.29e-07\n"
     ]
    }
   ],
   "source": [
    "num_epochs = 3\n",
    "model, best_loss_dict, best_epoch, metrics = train_model(model,\n",
    "                                                         optimizer_fn,\n",
    "                                                         loss_fn,\n",
    "                                                         num_epochs,\n",
    "                                                         tensor_dataloaders,\n",
    "                                                         device)"
   ],
   "metadata": {
    "collapsed": false,
    "pycharm": {
     "name": "#%%\n"
    }
   }
  },
  {
   "cell_type": "code",
   "execution_count": 11,
   "outputs": [],
   "source": [
    "y_pred, y_true = model_predict(model, tensor_dataloaders['test'], device)"
   ],
   "metadata": {
    "collapsed": false,
    "pycharm": {
     "name": "#%%\n"
    }
   }
  },
  {
   "cell_type": "code",
   "execution_count": 44,
   "outputs": [
    {
     "name": "stdout",
     "output_type": "stream",
     "text": [
      "Accuracy after training: 0.9820087609511889\n"
     ]
    }
   ],
   "source": [
    "print(f'Accuracy after training: {accuracy_score(np.argmax(y_true, axis=1), np.argmax(y_pred, axis=1))}')"
   ],
   "metadata": {
    "collapsed": false,
    "pycharm": {
     "name": "#%%\n"
    }
   }
  },
  {
   "cell_type": "code",
   "execution_count": 12,
   "outputs": [],
   "source": [
    "cm2 = get_cm(y_pred, y_true)\n",
    "show_cm(cm2)"
   ],
   "metadata": {
    "collapsed": false,
    "pycharm": {
     "name": "#%%\n"
    }
   }
  },
  {
   "cell_type": "code",
   "execution_count": 32,
   "outputs": [],
   "source": [
    "precision = dict()\n",
    "recall = dict()\n",
    "average_precision = dict()\n",
    "labels = []\n",
    "\n",
    "for i in range(2):\n",
    "    precision[i], recall[i], _ = precision_recall_curve(y_true[:, i], y_pred[:, i])\n",
    "    average_precision[i] = average_precision_score(y_true[:, i], y_pred[:, i])\n",
    "    labels.append('Precision-recall for class {0} (area = {1:0.4f})'\n",
    "                  ''.format(i, average_precision[i]))\n"
   ],
   "metadata": {
    "collapsed": false,
    "pycharm": {
     "name": "#%%\n"
    }
   }
  },
  {
   "cell_type": "code",
   "execution_count": 45,
   "outputs": [
    {
     "data": {
      "text/plain": "<Figure size 576x432 with 1 Axes>",
      "image/png": "[encoded data removed]"
     },
     "metadata": {
      "needs_background": "light"
     },
     "output_type": "display_data"
    }
   ],
   "source": [
    "plt.figure(figsize=(8, 6))\n",
    "plt.step(recall[0], precision[0])\n",
    "plt.step(recall[1], precision[1])\n",
    "plt.xlim([0.0, 1.05])\n",
    "plt.ylim([0.0, 1.05])\n",
    "plt.title('Precision-recall curve')\n",
    "plt.legend(labels)\n",
    "plt.show()\n"
   ],
   "metadata": {
    "collapsed": false,
    "pycharm": {
     "name": "#%%\n"
    }
   }
  }
 ],
 "metadata": {
  "kernelspec": {
   "name": "pycharm-a7fa1f9b",
   "language": "python",
   "display_name": "PyCharm (jb_test_2)"
  },
  "language_info": {
   "codemirror_mode": {
    "name": "ipython",
    "version": 2
   },
   "file_extension": ".py",
   "mimetype": "text/x-python",
   "name": "python",
   "nbconvert_exporter": "python",
   "pygments_lexer": "ipython2",
   "version": "2.7.6"
  }
 },
 "nbformat": 4,
 "nbformat_minor": 0
}